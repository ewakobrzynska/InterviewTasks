{
 "cells": [
  {
   "cell_type": "markdown",
   "metadata": {},
   "source": [
    "# Zadanie rekrutacyjne 2 - Weryfikacja poprawności numeru konta bankowego\n",
    "\n",
    "Napisz program, który sprawdzi, czy podany numer konta bankowego jest poprawny.\n",
    "\n",
    "Program powinien zwrócić odpowiedź czy dany numer konta jest poprawny (`TAK`), czy niepoprawny (`NIE`). Weryfikacja opiera się o poniższe zasady (wszystkie musza być spełnione łącznie aby numer przeszedł weryfikację):\n",
    "- numer konta składa się wyłącznie z cyfr (0-9),\n",
    "- numer konta nie może zaczynać się i kończyć cyfrą 0,\n",
    "- numer konta musi składać sie dokładnie z 20 cyfr,\n",
    "- numer konta może być dodatkowo zapisany w grupach wg schematu XXXXX-XXXXX-XXXXX-XXXXX (tj 5 cyfr + separator); jako separator w danym numerze konta może być użyty jedynie myślnik (-) lub plus (+), inne (lub ich kombinacje) nie są akceptowane,\n",
    "- numer konta nie może zawierać cyfry 0 więcej niż 3 razy,\n",
    "- numer konta nie może zawierać tej samej cyfry wiecej niż 3 razy pod rząd.\n",
    "\n",
    "__Uwaga:__ Rozwiązanie NIE może opierać sie o wyrażenia regularne.\n",
    "\n",
    "Przetestuj gotowe rozwiązanie pokazując, jak i na jakich przypadkach było testowane."
   ]
  },
  {
   "cell_type": "code",
   "execution_count": 13,
   "metadata": {},
   "outputs": [],
   "source": [
    "def sprawdz_numer_konta(numer_konta):\n",
    "    \n",
    "    if numer_konta.count('-') > 0 or numer_konta.count('+') > 0:\n",
    "        if '-' in numer_konta:\n",
    "            grupy = numer_konta.split('-') \n",
    "        else:\n",
    "            grupy = numer_konta.split('+')\n",
    "        if len(grupy) != 4 or any(len(grupa) != 5 for grupa in grupy):\n",
    "            return 'NIE'\n",
    "    \n",
    "    numer_konta = numer_konta.replace('-', '').replace('+', '')\n",
    "\n",
    "    for cyfra in numer_konta:\n",
    "        if not cyfra.isdigit():\n",
    "            return 'NIE'\n",
    "    \n",
    "    if numer_konta[0] == '0' or numer_konta[-1] == '0':\n",
    "        return 'NIE'\n",
    "    \n",
    "    if len(numer_konta) != 20:\n",
    "        return 'NIE'\n",
    "    \n",
    "    if numer_konta.count('0') > 3:\n",
    "        return 'NIE'\n",
    "\n",
    "    for i in range(len(numer_konta) - 3):\n",
    "        if numer_konta[i] == numer_konta[i + 1] == numer_konta[i + 2] == numer_konta[i + 3]:\n",
    "            return 'NIE'\n",
    "        \n",
    "    return 'TAK'\n"
   ]
  },
  {
   "cell_type": "code",
   "execution_count": 19,
   "metadata": {},
   "outputs": [
    {
     "name": "stderr",
     "output_type": "stream",
     "text": [
      "..............\n",
      "----------------------------------------------------------------------\n",
      "Ran 14 tests in 0.011s\n",
      "\n",
      "OK\n"
     ]
    },
    {
     "data": {
      "text/plain": [
       "<unittest.runner.TextTestResult run=14 errors=0 failures=0>"
      ]
     },
     "execution_count": 19,
     "metadata": {},
     "output_type": "execute_result"
    }
   ],
   "source": [
    "import unittest\n",
    "\n",
    "class TestSprawdzNumerKonta(unittest.TestCase):\n",
    "    def test_poprawny_numer_z_separatorem_minus(self):\n",
    "        self.assertEqual(sprawdz_numer_konta(\"12345-12345-12345-12345\"), \"TAK\")\n",
    "        \n",
    "    def test_poprawny_numer_z_separatorem_plus(self):\n",
    "        self.assertEqual(sprawdz_numer_konta(\"12345+12345+12345+12345\"), \"TAK\")\n",
    "        \n",
    "    def test_numer_z_grupami_innej_dl(self):\n",
    "        self.assertEqual(sprawdz_numer_konta(\"1234-51234-51234-51234\"), \"NIE\")\n",
    "        \n",
    "    def test_numer_zaczyna_sie_od_0(self):\n",
    "        self.assertEqual(sprawdz_numer_konta(\"01234-12345-12345-12345\"), \"NIE\")\n",
    "    \n",
    "    def test_numer_konczy_sie_0(self):\n",
    "        self.assertEqual(sprawdz_numer_konta(\"01234-12345-12345-12340\"), \"NIE\")\n",
    "        \n",
    "    def test_numer_konczy_sie_na_separatory(self):\n",
    "        self.assertEqual(sprawdz_numer_konta(\"12345-12345-12345-12345-\"), \"NIE\")\n",
    "        \n",
    "    def test_numer_zawiera_wiecej_niz_3_zera(self):\n",
    "        self.assertEqual(sprawdz_numer_konta(\"12345-12345-12345-12305\"), \"TAK\")\n",
    "        \n",
    "    def test_numer_zawiera_te_sama_cyfre_4_razy_pod_rzad(self):\n",
    "        self.assertEqual(sprawdz_numer_konta(\"1111-11111-11111-11111\"), \"NIE\")\n",
    "        \n",
    "    def test_numer_zawiera_wiecej_niz_3_taka_sama_cyfre_pod_rzad(self):\n",
    "        self.assertEqual(sprawdz_numer_konta(\"1234555551234512345\"), \"NIE\")\n",
    "        \n",
    "    def test_numer_poprawny_bez_separatora(self):\n",
    "        self.assertEqual(sprawdz_numer_konta(\"12345678901234567891\"), \"TAK\")\n",
    "        \n",
    "    def test_numer_zle_grupowanie(self):\n",
    "        self.assertEqual(sprawdz_numer_konta(\"12345-678901234567890\"), \"NIE\")\n",
    "        \n",
    "    def test_numer_zawiera_niepoprawne_znaki(self):\n",
    "        self.assertEqual(sprawdz_numer_konta(\"12345-abcde-12345-67890\"), \"NIE\")\n",
    "        \n",
    "    def test_numer_za_dlugi(self):\n",
    "        self.assertEqual(sprawdz_numer_konta(\"123456789012345678901\"), \"NIE\")\n",
    "        \n",
    "    def test_numer_za_krotki(self):\n",
    "        self.assertEqual(sprawdz_numer_konta(\"1234567890123456789\"), \"NIE\")\n",
    "\n",
    "suite = unittest.TestLoader().loadTestsFromTestCase(TestSprawdzNumerKonta)\n",
    "unittest.TextTestRunner().run(suite)\n"
   ]
  }
 ],
 "metadata": {
  "kernelspec": {
   "display_name": "Python 3",
   "language": "python",
   "name": "python3"
  },
  "language_info": {
   "codemirror_mode": {
    "name": "ipython",
    "version": 3
   },
   "file_extension": ".py",
   "mimetype": "text/x-python",
   "name": "python",
   "nbconvert_exporter": "python",
   "pygments_lexer": "ipython3",
   "version": "3.12.0"
  }
 },
 "nbformat": 4,
 "nbformat_minor": 2
}

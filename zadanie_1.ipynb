{
 "cells": [
  {
   "cell_type": "markdown",
   "metadata": {},
   "source": [
    "# Zadanie rekrutacyjne 1 - Programowanie w Pythonie\n",
    "\n",
    "Poniżej znajdziesz zestaw zadań pozwalających zaprezentować umiejętności tworzenia kodu w języku Python. Pod każdym zadaniem, w dedykowanej komórce wpisz kod pozwalający uzyskać opisany efekt.\n",
    "\n",
    "Utwórz listę (`list`), która zawiera co najmniej 25 losowo wybranych liczb z zakresu [0, 100] (włącznie) i jednocześnie:\n",
    "- jeżeli suma elementów listy wynosi więcej niż 300, liczba 1/3 musi wystąpić na liście co najmniej dwukrotnie,\n",
    "- w przeciwnym wypadku, liczba 1/3 ma wystąpić na liście co najmniej 4 razy.\n",
    "\n",
    "Utworzoną listę zapisz w zmiennej o wybranej nazwie."
   ]
  },
  {
   "cell_type": "code",
   "execution_count": 1,
   "metadata": {},
   "outputs": [
    {
     "name": "stdout",
     "output_type": "stream",
     "text": [
      "[0.3333333333333333, 72, 63, 32, 75, 61, 0.3333333333333333, 81, 75, 93, 45, 28, 3, 13, 51, 36, 62, 51, 69, 72, 61, 92, 53, 45, 22, 9, 22]\n"
     ]
    }
   ],
   "source": [
    "import random\n",
    "\n",
    "lista = [random.randint(0, 100) for _ in range(25)]\n",
    "\n",
    "list_sum = sum(lista)\n",
    "if list_sum > 300:\n",
    "    while lista.count(1/3) < 2:\n",
    "        lista.append(1/3)\n",
    "else:\n",
    "    while lista.count(1/3) < 4:\n",
    "        lista.append(1/3)\n",
    "\n",
    "random.shuffle(lista)\n",
    "len(lista)\n",
    "\n",
    "print(lista)"
   ]
  },
  {
   "cell_type": "markdown",
   "metadata": {},
   "source": [
    "Na 3 sposoby usuń wszystkie wartości 1/3 z utworzonej listy. W swoich rozwiązaniach wykorzystaj __wszystkie__ spośród poniższych konstrukcji:\n",
    "- bez użycia pętli,\n",
    "- używając pętli for,\n",
    "- używając metody append dla listy,\n",
    "- używając funkcji `lambda`,\n",
    "- używając stworzonej funkcji własnej (`def`)."
   ]
  },
  {
   "cell_type": "code",
   "execution_count": 2,
   "metadata": {},
   "outputs": [
    {
     "name": "stdout",
     "output_type": "stream",
     "text": [
      "[72, 63, 32, 75, 61, 81, 75, 93, 45, 28, 3, 13, 51, 36, 62, 51, 69, 72, 61, 92, 53, 45, 22, 9, 22]\n"
     ]
    }
   ],
   "source": [
    "\n",
    "filtered_list_1=list(filter(lambda x: (x !=1/3), lista))\n",
    "print(filtered_list_1)\n"
   ]
  },
  {
   "cell_type": "code",
   "execution_count": 3,
   "metadata": {},
   "outputs": [
    {
     "name": "stdout",
     "output_type": "stream",
     "text": [
      "[72, 63, 32, 75, 61, 81, 75, 93, 45, 28, 3, 13, 51, 36, 62, 51, 69, 72, 61, 92, 53, 45, 22, 9, 22]\n"
     ]
    }
   ],
   "source": [
    "# Using append and for\n",
    "filtered_list_2 = []\n",
    "for elem in lista:\n",
    "    if elem != 1/3:\n",
    "        filtered_list_2.append(elem)\n",
    "\n",
    "print(filtered_list_2)\n"
   ]
  },
  {
   "cell_type": "code",
   "execution_count": 4,
   "metadata": {},
   "outputs": [
    {
     "name": "stdout",
     "output_type": "stream",
     "text": [
      "[72, 63, 32, 75, 61, 81, 75, 93, 45, 28, 3, 13, 51, 36, 62, 51, 69, 72, 61, 92, 53, 45, 22, 9, 22]\n"
     ]
    }
   ],
   "source": [
    "#Own def\n",
    "def remove_value(lst, value):\n",
    "    new_list = []\n",
    "    for i in range(len(lst)):\n",
    "        if lst[i] != value:\n",
    "            new_list.append(lst[i])\n",
    "    return new_list\n",
    "\n",
    "filtered_list_3 = remove_value(lista, 1/3)\n",
    "\n",
    "print(filtered_list_3)\n"
   ]
  },
  {
   "cell_type": "markdown",
   "metadata": {},
   "source": [
    "Utwórz klasę `FantastycznaLista` reprezentującą listę utworzoną powyżej i zawierającą dwie metody:\n",
    "- `print_dict` -> wypisuje listę jako słownik (`dictionary`) gdzie `keys` to kolejne liczby naturalne, a `values` to nasza oryginalna lista,\n",
    "- `add_list` -> zwraca listę, której kolejne elementy powstają jako suma `keys`+`values` z poprzedniego punktu."
   ]
  },
  {
   "cell_type": "code",
   "execution_count": 5,
   "metadata": {},
   "outputs": [
    {
     "data": {
      "text/plain": [
       "({1: 0.3333333333333333,\n",
       "  2: 72,\n",
       "  3: 63,\n",
       "  4: 32,\n",
       "  5: 75,\n",
       "  6: 61,\n",
       "  7: 0.3333333333333333,\n",
       "  8: 81,\n",
       "  9: 75,\n",
       "  10: 93,\n",
       "  11: 45,\n",
       "  12: 28,\n",
       "  13: 3,\n",
       "  14: 13,\n",
       "  15: 51,\n",
       "  16: 36,\n",
       "  17: 62,\n",
       "  18: 51,\n",
       "  19: 69,\n",
       "  20: 72,\n",
       "  21: 61,\n",
       "  22: 92,\n",
       "  23: 53,\n",
       "  24: 45,\n",
       "  25: 22,\n",
       "  26: 9,\n",
       "  27: 22},\n",
       " [0.3333333333333333,\n",
       "  73,\n",
       "  65,\n",
       "  35,\n",
       "  79,\n",
       "  66,\n",
       "  6.333333333333333,\n",
       "  88,\n",
       "  83,\n",
       "  102,\n",
       "  55,\n",
       "  39,\n",
       "  15,\n",
       "  26,\n",
       "  65,\n",
       "  51,\n",
       "  78,\n",
       "  68,\n",
       "  87,\n",
       "  91,\n",
       "  81,\n",
       "  113,\n",
       "  75,\n",
       "  68,\n",
       "  46,\n",
       "  34,\n",
       "  48])"
      ]
     },
     "execution_count": 5,
     "metadata": {},
     "output_type": "execute_result"
    }
   ],
   "source": [
    "class FantastycznaLista:\n",
    "    def __init__(self, original_list):\n",
    "        self.original_list = original_list\n",
    "    \n",
    "    def print_dict(self):\n",
    "        return {i+1: self.original_list[i] for i in range(len(self.original_list))}\n",
    "    \n",
    "    def add_list(self):\n",
    "        return [i + self.original_list[i] for i in range(len(self.original_list))]\n",
    "\n",
    "\n",
    "fantastyczna_lista = FantastycznaLista(lista)\n",
    "fantastyczna_lista.print_dict(), fantastyczna_lista.add_list()\n"
   ]
  }
 ],
 "metadata": {
  "kernelspec": {
   "display_name": "AI_3",
   "language": "python",
   "name": "python3"
  },
  "language_info": {
   "codemirror_mode": {
    "name": "ipython",
    "version": 3
   },
   "file_extension": ".py",
   "mimetype": "text/x-python",
   "name": "python",
   "nbconvert_exporter": "python",
   "pygments_lexer": "ipython3",
   "version": "3.12.0"
  }
 },
 "nbformat": 4,
 "nbformat_minor": 2
}

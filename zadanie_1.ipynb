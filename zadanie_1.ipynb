{
 "cells": [
  {
   "cell_type": "markdown",
   "metadata": {},
   "source": [
    "# Zadanie rekrutacyjne 1 - Programowanie w Pythonie\n",
    "\n",
    "Poniżej znajdziesz zestaw zadań pozwalających zaprezentować umiejętności tworzenia kodu w języku Python. Pod każdym zadaniem, w dedykowanej komórce wpisz kod pozwalający uzyskać opisany efekt.\n",
    "\n",
    "Utwórz listę (`list`), która zawiera co najmniej 25 losowo wybranych liczb z zakresu [0, 100] (włącznie) i jednocześnie:\n",
    "- jeżeli suma elementów listy wynosi więcej niż 300, liczba 1/3 musi wystąpić na liście co najmniej dwukrotnie,\n",
    "- w przeciwnym wypadku, liczba 1/3 ma wystąpić na liście co najmniej 4 razy.\n",
    "\n",
    "Utworzoną listę zapisz w zmiennej o wybranej nazwie."
   ]
  },
  {
   "cell_type": "code",
   "execution_count": 42,
   "metadata": {},
   "outputs": [
    {
     "name": "stdout",
     "output_type": "stream",
     "text": [
      "[70, 67, 14, 8, 42, 0.3333333333333333, 68, 54, 19, 16, 62, 6, 86, 75, 96, 16, 28, 53, 52, 24, 35, 65, 55, 38, 51, 0.3333333333333333, 6]\n"
     ]
    }
   ],
   "source": [
    "import random\n",
    "\n",
    "lista = [random.randint(0, 100) for _ in range(25)]\n",
    "\n",
    "list_sum = sum(lista)\n",
    "if list_sum > 300:\n",
    "    while lista.count(1/3) < 2:\n",
    "        lista.append(1/3)\n",
    "else:\n",
    "    while lista.count(1/3) < 4:\n",
    "        lista.append(1/3)\n",
    "\n",
    "random.shuffle(lista)\n",
    "len(lista)\n",
    "\n",
    "print(lista)"
   ]
  },
  {
   "cell_type": "markdown",
   "metadata": {},
   "source": [
    "Na 3 sposoby usuń wszystkie wartości 1/3 z utworzonej listy. W swoich rozwiązaniach wykorzystaj __wszystkie__ spośród poniższych konstrukcji:\n",
    "- bez użycia pętli,\n",
    "- używając pętli for,\n",
    "- używając metody append dla listy,\n",
    "- używając funkcji `lambda`,\n",
    "- używając stworzonej funkcji własnej (`def`)."
   ]
  },
  {
   "cell_type": "code",
   "execution_count": 46,
   "metadata": {},
   "outputs": [
    {
     "ename": "TypeError",
     "evalue": "'list' object is not callable",
     "output_type": "error",
     "traceback": [
      "\u001b[0;31m---------------------------------------------------------------------------\u001b[0m",
      "\u001b[0;31mTypeError\u001b[0m                                 Traceback (most recent call last)",
      "Cell \u001b[0;32mIn[46], line 1\u001b[0m\n\u001b[0;32m----> 1\u001b[0m filtered_list_1\u001b[38;5;241m=\u001b[39m\u001b[38;5;28;43mlist\u001b[39;49m\u001b[43m(\u001b[49m\u001b[38;5;28;43mfilter\u001b[39;49m\u001b[43m(\u001b[49m\u001b[38;5;28;43;01mlambda\u001b[39;49;00m\u001b[43m \u001b[49m\u001b[43mx\u001b[49m\u001b[43m:\u001b[49m\u001b[43m \u001b[49m\u001b[43mx\u001b[49m\u001b[43m \u001b[49m\u001b[38;5;241;43m!=\u001b[39;49m\u001b[43m \u001b[49m\u001b[38;5;241;43m1\u001b[39;49m\u001b[38;5;241;43m/\u001b[39;49m\u001b[38;5;241;43m3\u001b[39;49m\u001b[43m,\u001b[49m\u001b[43m \u001b[49m\u001b[43mlista\u001b[49m\u001b[43m)\u001b[49m\u001b[43m)\u001b[49m\n\u001b[1;32m      2\u001b[0m \u001b[38;5;28mprint\u001b[39m(filtered_list_1)\n",
      "\u001b[0;31mTypeError\u001b[0m: 'list' object is not callable"
     ]
    }
   ],
   "source": [
    "filtered_list_1=list(filter(lambda x: x != 1/3, lista))\n",
    "print(filtered_list_1)\n"
   ]
  },
  {
   "cell_type": "code",
   "execution_count": 40,
   "metadata": {},
   "outputs": [
    {
     "name": "stdout",
     "output_type": "stream",
     "text": [
      "[80, 96, 63, 23, 89, 100, 34, 19, 51, 6, 57, 55, 82, 55, 13, 7, 61, 68, 93, 40, 13, 68, 59, 29, 34]\n"
     ]
    }
   ],
   "source": [
    "# Using append and for\n",
    "filtered_list_2 = []\n",
    "for elem in lista:\n",
    "    if elem != 1/3:\n",
    "        filtered_list_2.append(elem)\n",
    "\n",
    "print(filtered_list_2)\n"
   ]
  },
  {
   "cell_type": "code",
   "execution_count": 41,
   "metadata": {},
   "outputs": [
    {
     "name": "stdout",
     "output_type": "stream",
     "text": [
      "[80, 96, 63, 23, 89, 100, 34, 19, 51, 6, 57, 55, 82, 55, 13, 7, 61, 68, 93, 40, 13, 68, 59, 29, 34]\n"
     ]
    }
   ],
   "source": [
    "#Own def\n",
    "def remove_value(lst, value):\n",
    "    new_list = []\n",
    "    for i in range(len(lst)):\n",
    "        if lst[i] != value:\n",
    "            new_list.append(lst[i])\n",
    "    return new_list\n",
    "\n",
    "filtered_list_3 = remove_value(lista, 1/3)\n",
    "\n",
    "print(filtered_list_3)\n"
   ]
  },
  {
   "cell_type": "markdown",
   "metadata": {},
   "source": [
    "Utwórz klasę `FantastycznaLista` reprezentującą listę utworzoną powyżej i zawierającą dwie metody:\n",
    "- `print_dict` -> wypisuje listę jako słownik (`dictionary`) gdzie `keys` to kolejne liczby naturalne, a `values` to nasza oryginalna lista,\n",
    "- `add_list` -> zwraca listę, której kolejne elementy powstają jako suma `keys`+`values` z poprzedniego punktu."
   ]
  },
  {
   "cell_type": "code",
   "execution_count": 33,
   "metadata": {},
   "outputs": [
    {
     "data": {
      "text/plain": [
       "({1: 80,\n",
       "  2: 96,\n",
       "  3: 63,\n",
       "  4: 23,\n",
       "  5: 89,\n",
       "  6: 100,\n",
       "  7: 34,\n",
       "  8: 19,\n",
       "  9: 51,\n",
       "  10: 6,\n",
       "  11: 0.3333333333333333,\n",
       "  12: 57,\n",
       "  13: 55,\n",
       "  14: 82,\n",
       "  15: 55,\n",
       "  16: 13,\n",
       "  17: 7,\n",
       "  18: 61,\n",
       "  19: 68,\n",
       "  20: 93,\n",
       "  21: 40,\n",
       "  22: 13,\n",
       "  23: 0.3333333333333333,\n",
       "  24: 68,\n",
       "  25: 59,\n",
       "  26: 29,\n",
       "  27: 34},\n",
       " [80,\n",
       "  97,\n",
       "  65,\n",
       "  26,\n",
       "  93,\n",
       "  105,\n",
       "  40,\n",
       "  26,\n",
       "  59,\n",
       "  15,\n",
       "  10.333333333333334,\n",
       "  68,\n",
       "  67,\n",
       "  95,\n",
       "  69,\n",
       "  28,\n",
       "  23,\n",
       "  78,\n",
       "  86,\n",
       "  112,\n",
       "  60,\n",
       "  34,\n",
       "  22.333333333333332,\n",
       "  91,\n",
       "  83,\n",
       "  54,\n",
       "  60])"
      ]
     },
     "execution_count": 33,
     "metadata": {},
     "output_type": "execute_result"
    }
   ],
   "source": [
    "class FantastycznaLista:\n",
    "    def __init__(self, original_list):\n",
    "        self.original_list = original_list\n",
    "    \n",
    "    def print_dict(self):\n",
    "        return {i+1: self.original_list[i] for i in range(len(self.original_list))}\n",
    "    \n",
    "    def add_list(self):\n",
    "        return [i + self.original_list[i] for i in range(len(self.original_list))]\n",
    "\n",
    "\n",
    "fantastyczna_lista = FantastycznaLista(lista)\n",
    "fantastyczna_lista.print_dict(), fantastyczna_lista.add_list()\n"
   ]
  }
 ],
 "metadata": {
  "kernelspec": {
   "display_name": "AI_3",
   "language": "python",
   "name": "python3"
  },
  "language_info": {
   "codemirror_mode": {
    "name": "ipython",
    "version": 3
   },
   "file_extension": ".py",
   "mimetype": "text/x-python",
   "name": "python",
   "nbconvert_exporter": "python",
   "pygments_lexer": "ipython3",
   "version": "3.12.0"
  }
 },
 "nbformat": 4,
 "nbformat_minor": 2
}

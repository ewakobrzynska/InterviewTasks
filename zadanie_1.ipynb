{
 "cells": [
  {
   "cell_type": "markdown",
   "metadata": {},
   "source": [
    "# Zadanie rekrutacyjne 1 - Programowanie w Pythonie\n",
    "\n",
    "Poniżej znajdziesz zestaw zadań pozwalających zaprezentować umiejętności tworzenia kodu w języku Python. Pod każdym zadaniem, w dedykowanej komórce wpisz kod pozwalający uzyskać opisany efekt.\n",
    "\n",
    "Utwórz listę (`list`), która zawiera co najmniej 25 losowo wybranych liczb z zakresu [0, 100] (włącznie) i jednocześnie:\n",
    "- jeżeli suma elementów listy wynosi więcej niż 300, liczba 1/3 musi wystąpić na liście co najmniej dwukrotnie,\n",
    "- w przeciwnym wypadku, liczba 1/3 ma wystąpić na liście co najmniej 4 razy.\n",
    "\n",
    "Utworzoną listę zapisz w zmiennej o wybranej nazwie."
   ]
  },
  {
   "cell_type": "code",
   "execution_count": 1,
   "metadata": {},
   "outputs": [],
   "source": [
    "# tu wpisz rozwiązanie"
   ]
  },
  {
   "cell_type": "markdown",
   "metadata": {},
   "source": [
    "Na 3 sposoby usuń wszystkie wartości 1/3 z utworzonej listy. W swoich rozwiązaniach wykorzystaj __wszystkie__ spośród poniższych konstrukcji:\n",
    "- bez użycia pętli,\n",
    "- używając pętli for,\n",
    "- używając metody append dla listy,\n",
    "- używając funkcji `lambda`,\n",
    "- używając stworzonej funkcji własnej (`def`)."
   ]
  },
  {
   "cell_type": "code",
   "execution_count": 2,
   "metadata": {},
   "outputs": [],
   "source": [
    "# tu wpisz podejście 1"
   ]
  },
  {
   "cell_type": "code",
   "execution_count": 3,
   "metadata": {},
   "outputs": [],
   "source": [
    "# tu wpisz podejście 2"
   ]
  },
  {
   "cell_type": "code",
   "execution_count": 4,
   "metadata": {},
   "outputs": [],
   "source": [
    "# tu wpisz podejście 3"
   ]
  },
  {
   "cell_type": "markdown",
   "metadata": {},
   "source": [
    "Utwórz klasę `FantastycznaLista` reprezentującą listę utworzoną powyżej i zawierającą dwie metody:\n",
    "- `print_dict` -> wypisuje listę jako słownik (`dictionary`) gdzie `keys` to kolejne liczby naturalne, a `values` to nasza oryginalna lista,\n",
    "- `add_list` -> zwraca listę, której kolejne elementy powstają jako suma `keys`+`values` z poprzedniego punktu."
   ]
  },
  {
   "cell_type": "code",
   "execution_count": 5,
   "metadata": {},
   "outputs": [],
   "source": [
    "# tu wpisz rozwiązanie"
   ]
  }
 ],
 "metadata": {
  "kernelspec": {
   "display_name": "AI_3",
   "language": "python",
   "name": "python3"
  },
  "language_info": {
   "codemirror_mode": {
    "name": "ipython",
    "version": 3
   },
   "file_extension": ".py",
   "mimetype": "text/x-python",
   "name": "python",
   "nbconvert_exporter": "python",
   "pygments_lexer": "ipython3",
   "version": "3.12.0"
  }
 },
 "nbformat": 4,
 "nbformat_minor": 2
}

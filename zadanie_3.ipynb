{
 "cells": [
  {
   "cell_type": "markdown",
   "metadata": {},
   "source": [
    "# Zadanie rekrutacyjne 3 - Regresja logistyczna\n",
    "\n",
    "Twoim zadaniem jest opracowanie __modelu regresji logistycznej__.\n",
    "\n",
    "## Analiza danych\n",
    "\n",
    "Przeanalizuj dane dostarczone w pliku `dane_zadanie_v1.0.xlsx`. \n",
    "\n",
    "Czy na ich podstawie zdecydujesz się opracować model regresji logistycznej? Uzasadnij odpowiedź.\n",
    "\n",
    "Jeśli decydujesz się opracować model napisz także:\n",
    "- Czy mimo wszystko masz jakieś wątpliwości? \n",
    "- Czy brakuje Ci informacji, które mogłyby w Twojej ocenie pomóc?"
   ]
  },
  {
   "cell_type": "code",
   "execution_count": 6,
   "metadata": {},
   "outputs": [
    {
     "name": "stdout",
     "output_type": "stream",
     "text": [
      "   Zm1       Zm2     Zm3_a     Zm3_b        Zm3_c         Zm3    Zm4  \\\n",
      "0   47  2.556346  0.245325  0.837421  1008.068531  207.098028    NaN   \n",
      "1   52  5.440271  0.466611  0.184779  1000.823017   86.290555  Kat_d   \n",
      "2   55  1.907546  0.970312  0.396966  1004.789753  387.025911  Kat_a   \n",
      "3   51  7.990015  0.104896  0.875934  1004.476626   92.293651  Kat_d   \n",
      "4   33  1.175730  0.860810  0.458833  1000.042185  394.984532  Kat_a   \n",
      "\n",
      "         Zm5  Target  \n",
      "0  14.187720       0  \n",
      "1  30.193503       1  \n",
      "2  10.586882       1  \n",
      "3  44.344586       1  \n",
      "4   6.525302       1  \n",
      "<class 'pandas.core.frame.DataFrame'>\n",
      "RangeIndex: 100 entries, 0 to 99\n",
      "Data columns (total 9 columns):\n",
      " #   Column  Non-Null Count  Dtype  \n",
      "---  ------  --------------  -----  \n",
      " 0   Zm1     100 non-null    int64  \n",
      " 1   Zm2     100 non-null    float64\n",
      " 2   Zm3_a   100 non-null    float64\n",
      " 3   Zm3_b   100 non-null    float64\n",
      " 4   Zm3_c   100 non-null    float64\n",
      " 5   Zm3     100 non-null    float64\n",
      " 6   Zm4     77 non-null     object \n",
      " 7   Zm5     100 non-null    float64\n",
      " 8   Target  100 non-null    int64  \n",
      "dtypes: float64(6), int64(2), object(1)\n",
      "memory usage: 7.2+ KB\n",
      "None\n"
     ]
    }
   ],
   "source": [
    "import pandas as pd\n",
    "\n",
    "file_path = 'dane_zadanie_v1.0.xlsx'\n",
    "df = pd.read_excel(file_path)\n",
    "\n",
    "print(df.head())\n",
    "\n",
    "print(df.info())\n",
    "#print(df.describe())"
   ]
  },
  {
   "cell_type": "code",
   "execution_count": 4,
   "metadata": {},
   "outputs": [
    {
     "name": "stdout",
     "output_type": "stream",
     "text": [
      "Target\n",
      "0    64\n",
      "1    36\n",
      "Name: count, dtype: int64\n"
     ]
    }
   ],
   "source": [
    "print(df['Target'].value_counts())\n"
   ]
  },
  {
   "cell_type": "markdown",
   "metadata": {},
   "source": [
    "Niezrównowazony Target tj. klasa 0 =64 rekordy, klasa 1 = 36."
   ]
  },
  {
   "cell_type": "code",
   "execution_count": 5,
   "metadata": {},
   "outputs": [
    {
     "name": "stdout",
     "output_type": "stream",
     "text": [
      "Zm1        0\n",
      "Zm2        0\n",
      "Zm3_a      0\n",
      "Zm3_b      0\n",
      "Zm3_c      0\n",
      "Zm3        0\n",
      "Zm4       23\n",
      "Zm5        0\n",
      "Target     0\n",
      "dtype: int64\n"
     ]
    }
   ],
   "source": [
    "print(df.isnull().sum())\n"
   ]
  },
  {
   "cell_type": "markdown",
   "metadata": {},
   "source": [
    "Brakuje 23 wartości Zm4."
   ]
  },
  {
   "cell_type": "markdown",
   "metadata": {},
   "source": [
    "Zmienna docelowa (Target) - binarna, ale niezrównowazona, co moze mieć wpływ na ocenę skuteczności modelu\n",
    "Zmienne predykcyjne (Zm1-Zm5) - wystarczająco danych, by określić zmienność Target\n",
    "Brakujące dane (23) - przy zastosowaniu technik dla przetwarzania brakującyh danych mozna zminimalizować ten problem (input najczęściej powtarzane/usunąć niepełne rekordy/zmienna dummy)\n",
    "\n",
    "Na podstawie dostarczonych danych decyduję się na opracowanie modelu regresji logistycznej, mimo problemów związanych z brakującymi danymi, niezrównoważonym rozkładem klas oraz brakiem opisu, co reprezentują poszczególne zmienne (pomogłoby to lepiej zrozumieć kontekst danych), poniewa dane te można skutecznie zaadresować, co pozwala na pełne wykorzystanie potencjału dostępnego inputu."
   ]
  },
  {
   "cell_type": "markdown",
   "metadata": {},
   "source": [
    "## Opracowanie modelu\n",
    "\n",
    "Jeżeli nie zdecydujesz się opracować modelu, pozostaw tę sekcję pustą.\n",
    "\n",
    "Jeśli decydujesz się opracować model, zamodeluj  `Target` w oparciu o zmienne `Zm1`-`Zm5` (zauważ, że `Zm3_a/b/c` są komponentami zmiennej `Zm3`). \n",
    "\n",
    "Możesz dokonywać standardowych przekształceń zmiennych `Zm` aby poprawić jakość działania modelu. \n",
    "\n",
    "Przedstaw i krótko opisz kolejne kroki modelowania.\n",
    "\n",
    "Oceń jakość otrzymanego modelu."
   ]
  },
  {
   "cell_type": "code",
   "execution_count": 22,
   "metadata": {},
   "outputs": [
    {
     "name": "stdout",
     "output_type": "stream",
     "text": [
      "[[13  0]\n",
      " [ 1  6]]\n",
      "              precision    recall  f1-score   support\n",
      "\n",
      "           0       0.93      1.00      0.96        13\n",
      "           1       1.00      0.86      0.92         7\n",
      "\n",
      "    accuracy                           0.95        20\n",
      "   macro avg       0.96      0.93      0.94        20\n",
      "weighted avg       0.95      0.95      0.95        20\n",
      "\n"
     ]
    }
   ],
   "source": [
    "from sklearn.model_selection import train_test_split\n",
    "from sklearn.preprocessing import StandardScaler\n",
    "from sklearn.linear_model import LogisticRegression\n",
    "from sklearn.metrics import classification_report, confusion_matrix\n",
    "from sklearn.impute import SimpleImputer\n",
    "from sklearn.pipeline import Pipeline\n",
    "from sklearn.compose import ColumnTransformer\n",
    "from sklearn.preprocessing import StandardScaler, OneHotEncoder\n",
    "\n",
    "numeric_features = ['Zm1', 'Zm2', 'Zm3_a', 'Zm3_b', 'Zm3_c', 'Zm5']\n",
    "categorical_features = ['Zm4']\n",
    "\n",
    "X_train, X_test, y_train, y_test = train_test_split(df.drop(columns=['Target']), df['Target'], test_size=0.2, random_state=42)\n",
    "\n",
    "numeric_transformer = StandardScaler()\n",
    "categorical_transformer = Pipeline(steps=[\n",
    "    ('imputer', SimpleImputer(strategy='most_frequent')), #uzupełnienie braków przez input='most frequent'\n",
    "    ('onehot', OneHotEncoder(drop='first'))\n",
    "])\n",
    "\n",
    "#model pipeline\n",
    "preprocessor = ColumnTransformer(\n",
    "    transformers=[\n",
    "        ('num', numeric_transformer, numeric_features),\n",
    "        ('cat', categorical_transformer, categorical_features)\n",
    "    ])\n",
    "\n",
    "model = Pipeline(steps=[('preprocessor', preprocessor),\n",
    "                        ('classifier', LogisticRegression())])\n",
    "\n",
    "\n",
    "model.fit(X_train, y_train)\n",
    "\n",
    "#predykcja i ocena jakości modelu\n",
    "y_pred = model.predict(X_test)\n",
    "print(confusion_matrix(y_test, y_pred))\n",
    "print(classification_report(y_test, y_pred))"
   ]
  },
  {
   "cell_type": "markdown",
   "metadata": {},
   "source": [
    "Model dokonał 13 poprawnych predykcji dla klasy 0 i 6 poprawnych predykcji dla klasy 1. Istnieje jedno fałszywie pozytywne przewidywanie.\n",
    "Całkowita dokładność modelu (accuracy) wynosząca 95% oznacza, że model poprawnie sklasyfikował 95% obserwacji w zbiorze testowym.\n",
    "Wyniki te sugerują, że model dobrze radzi sobie z tym problemem klasyfikacji."
   ]
  }
 ],
 "metadata": {
  "kernelspec": {
   "display_name": "Python 3",
   "language": "python",
   "name": "python3"
  },
  "language_info": {
   "codemirror_mode": {
    "name": "ipython",
    "version": 3
   },
   "file_extension": ".py",
   "mimetype": "text/x-python",
   "name": "python",
   "nbconvert_exporter": "python",
   "pygments_lexer": "ipython3",
   "version": "3.11.7"
  }
 },
 "nbformat": 4,
 "nbformat_minor": 2
}

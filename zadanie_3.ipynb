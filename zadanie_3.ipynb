{
 "cells": [
  {
   "cell_type": "markdown",
   "metadata": {},
   "source": [
    "# Zadanie rekrutacyjne 3 - Regresja logistyczna\n",
    "\n",
    "Twoim zadaniem jest opracowanie __modelu regresji logistycznej__.\n",
    "\n",
    "## Analiza danych\n",
    "\n",
    "Przeanalizuj dane dostarczone w pliku `dane_zadanie_v1.0.xlsx`. \n",
    "\n",
    "Czy na ich podstawie zdecydujesz się opracować model regresji logistycznej? Uzasadnij odpowiedź.\n",
    "\n",
    "Jeśli decydujesz się opracować model napisz także:\n",
    "- Czy mimo wszystko masz jakieś wątpliwości? \n",
    "- Czy brakuje Ci informacji, które mogłyby w Twojej ocenie pomóc?"
   ]
  },
  {
   "cell_type": "code",
   "execution_count": 3,
   "metadata": {},
   "outputs": [
    {
     "name": "stdout",
     "output_type": "stream",
     "text": [
      "   Zm1       Zm2     Zm3_a     Zm3_b        Zm3_c         Zm3    Zm4  \\\n",
      "0   47  2.556346  0.245325  0.837421  1008.068531  207.098028    NaN   \n",
      "1   52  5.440271  0.466611  0.184779  1000.823017   86.290555  Kat_d   \n",
      "2   55  1.907546  0.970312  0.396966  1004.789753  387.025911  Kat_a   \n",
      "3   51  7.990015  0.104896  0.875934  1004.476626   92.293651  Kat_d   \n",
      "4   33  1.175730  0.860810  0.458833  1000.042185  394.984532  Kat_a   \n",
      "\n",
      "         Zm5  Target  \n",
      "0  14.187720       0  \n",
      "1  30.193503       1  \n",
      "2  10.586882       1  \n",
      "3  44.344586       1  \n",
      "4   6.525302       1  \n",
      "<class 'pandas.core.frame.DataFrame'>\n",
      "RangeIndex: 100 entries, 0 to 99\n",
      "Data columns (total 9 columns):\n",
      " #   Column  Non-Null Count  Dtype  \n",
      "---  ------  --------------  -----  \n",
      " 0   Zm1     100 non-null    int64  \n",
      " 1   Zm2     100 non-null    float64\n",
      " 2   Zm3_a   100 non-null    float64\n",
      " 3   Zm3_b   100 non-null    float64\n",
      " 4   Zm3_c   100 non-null    float64\n",
      " 5   Zm3     100 non-null    float64\n",
      " 6   Zm4     77 non-null     object \n",
      " 7   Zm5     100 non-null    float64\n",
      " 8   Target  100 non-null    int64  \n",
      "dtypes: float64(6), int64(2), object(1)\n",
      "memory usage: 7.2+ KB\n",
      "None\n",
      "              Zm1         Zm2       Zm3_a       Zm3_b        Zm3_c  \\\n",
      "count  100.000000  100.000000  100.000000  100.000000   100.000000   \n",
      "mean    49.610000    3.218595    0.466414    0.485691  1004.785353   \n",
      "std      9.421547    3.450591    0.300161    0.279500     2.800597   \n",
      "min     23.000000    0.044092    0.004823    0.006683  1000.042185   \n",
      "25%     43.000000    1.163509    0.194063    0.259428  1002.527810   \n",
      "50%     51.000000    1.995937    0.427371    0.472234  1004.673694   \n",
      "75%     55.000000    3.471258    0.736736    0.744681  1007.278576   \n",
      "max     70.000000   20.317462    0.998535    0.938121  1009.994391   \n",
      "\n",
      "              Zm3         Zm5      Target  \n",
      "count  100.000000  100.000000  100.000000  \n",
      "mean   233.556128   17.863205    0.360000  \n",
      "std    215.816346   19.150780    0.482418  \n",
      "min      0.097373    0.244712    0.000000  \n",
      "25%     51.914895    6.457474    0.000000  \n",
      "50%    173.290137   11.077451    0.000000  \n",
      "75%    372.297730   19.265479    1.000000  \n",
      "max    838.380260  112.761916    1.000000  \n"
     ]
    }
   ],
   "source": [
    "import pandas as pd\n",
    "\n",
    "file_path = 'dane_zadanie_v1.0.xlsx'\n",
    "df = pd.read_excel(file_path)\n",
    "\n",
    "print(df.head())\n",
    "\n",
    "print(df.info())\n",
    "print(df.describe())"
   ]
  },
  {
   "cell_type": "markdown",
   "metadata": {},
   "source": [
    "Tutaj wpisz i uzasadnij decyzję dotyczącą opracowania modelu."
   ]
  },
  {
   "cell_type": "code",
   "execution_count": 4,
   "metadata": {},
   "outputs": [
    {
     "name": "stdout",
     "output_type": "stream",
     "text": [
      "Target\n",
      "0    64\n",
      "1    36\n",
      "Name: count, dtype: int64\n"
     ]
    }
   ],
   "source": [
    "print(df['Target'].value_counts())\n"
   ]
  },
  {
   "cell_type": "code",
   "execution_count": 5,
   "metadata": {},
   "outputs": [
    {
     "name": "stdout",
     "output_type": "stream",
     "text": [
      "Zm1        0\n",
      "Zm2        0\n",
      "Zm3_a      0\n",
      "Zm3_b      0\n",
      "Zm3_c      0\n",
      "Zm3        0\n",
      "Zm4       23\n",
      "Zm5        0\n",
      "Target     0\n",
      "dtype: int64\n"
     ]
    }
   ],
   "source": [
    "print(df.isnull().sum())\n"
   ]
  },
  {
   "cell_type": "markdown",
   "metadata": {},
   "source": [
    "## Opracowanie modelu\n",
    "\n",
    "Jeżeli nie zdecydujesz się opracować modelu, pozostaw tę sekcję pustą.\n",
    "\n",
    "Jeśli decydujesz się opracować model, zamodeluj  `Target` w oparciu o zmienne `Zm1`-`Zm5` (zauważ, że `Zm3_a/b/c` są komponentami zmiennej `Zm3`). \n",
    "\n",
    "Możesz dokonywać standardowych przekształceń zmiennych `Zm` aby poprawić jakość działania modelu. \n",
    "\n",
    "Przedstaw i krótko opisz kolejne kroki modelowania.\n",
    "\n",
    "Oceń jakość otrzymanego modelu."
   ]
  },
  {
   "cell_type": "code",
   "execution_count": 2,
   "metadata": {},
   "outputs": [],
   "source": [
    "# tu wpisz rozwiązanie"
   ]
  }
 ],
 "metadata": {
  "kernelspec": {
   "display_name": "Python 3",
   "language": "python",
   "name": "python3"
  },
  "language_info": {
   "codemirror_mode": {
    "name": "ipython",
    "version": 3
   },
   "file_extension": ".py",
   "mimetype": "text/x-python",
   "name": "python",
   "nbconvert_exporter": "python",
   "pygments_lexer": "ipython3",
   "version": "3.11.7"
  }
 },
 "nbformat": 4,
 "nbformat_minor": 2
}
